{
  "nbformat": 4,
  "nbformat_minor": 0,
  "metadata": {
    "colab": {
      "provenance": [],
      "machine_shape": "hm",
      "gpuType": "A100"
    },
    "kernelspec": {
      "name": "python3",
      "display_name": "Python 3"
    },
    "language_info": {
      "name": "python"
    },
    "accelerator": "GPU"
  },
  "cells": [
    {
      "cell_type": "code",
      "execution_count": null,
      "metadata": {
        "id": "0u78cEPi-_m0"
      },
      "outputs": [],
      "source": [
        "from google.colab import drive\n",
        "drive.mount('/content/drive')"
      ]
    },
    {
      "cell_type": "code",
      "source": [
        "!pip install -U \\\n",
        "  \"trl==0.19.0\" \\\n",
        "  \"datasets>=3.6.0\" \\\n",
        "  \"transformers>=4.42.0\" \\\n",
        "  \"accelerate>=0.29.0\" \\\n",
        "  \"fsspec==2025.3.0\" \\\n",
        "  \"gcsfs==2025.3.0\" \\\n",
        "  \"bitsandbytes==0.46.0\" \\\n",
        "  \"peft\""
      ],
      "metadata": {
        "id": "605ax9DAAQmh"
      },
      "execution_count": null,
      "outputs": []
    },
    {
      "cell_type": "code",
      "source": [
        "import warnings\n",
        "\n",
        "# 경고 메시지 패턴을 필터링\n",
        "warnings.filterwarnings(\n",
        "    \"ignore\",\n",
        "    message=r\".*torch.utils.checkpoint: the use_reentrant parameter.*\",\n",
        "    category=UserWarning\n",
        ")\n",
        "warnings.filterwarnings(\"ignore\", message=\"None of the inputs have requires_grad=True\")\n",
        "warnings.filterwarnings(\"ignore\", message=\"Caching is incompatible with gradient checkpointing*\")"
      ],
      "metadata": {
        "id": "kEni7wPTARp8"
      },
      "execution_count": null,
      "outputs": []
    },
    {
      "cell_type": "code",
      "source": [
        "import logging\n",
        "logging.getLogger(\"transformers\").setLevel(logging.ERROR)"
      ],
      "metadata": {
        "id": "ZnZ1y-Gn0ee1"
      },
      "execution_count": null,
      "outputs": []
    },
    {
      "cell_type": "markdown",
      "source": [
        "reward model"
      ],
      "metadata": {
        "id": "BCBpXlLoBdpl"
      }
    },
    {
      "cell_type": "code",
      "source": [
        "import torch\n",
        "import torch.nn as nn\n",
        "from transformers import AutoTokenizer, AutoModelForCausalLM\n",
        "from peft import PeftModel, PeftConfig, prepare_model_for_kbit_training\n",
        "from trl import RewardTrainer, RewardConfig\n",
        "from datasets import Dataset\n",
        "import pandas as pd\n",
        "from transformers.modeling_utils import PreTrainedModel\n",
        "from transformers import AutoConfig\n",
        "\n",
        "# --------------------------------------------------\n",
        "# 1. RewardModel 정의 (1D 보상 출력)\n",
        "# --------------------------------------------------\n",
        "import torch.nn as nn\n",
        "\n",
        "class SafeRewardModel(nn.Module):\n",
        "    def __init__(self, base_model):\n",
        "        super().__init__()\n",
        "        self.transformer = base_model.model.model\n",
        "        self.value_head = nn.Linear(base_model.config.hidden_size, 1)\n",
        "\n",
        "        self.config = base_model.config\n",
        "        self.is_parallelizable = False\n",
        "        self.model_parallel = False\n",
        "        self.device = base_model.device\n",
        "        self.warnings_issued = {}\n",
        "\n",
        "    def forward(self, input_ids, attention_mask, **kwargs):\n",
        "        output = self.transformer(input_ids=input_ids, attention_mask=attention_mask)\n",
        "        hidden = output.last_hidden_state\n",
        "        last_token = hidden[:, -1, :]\n",
        "        reward = self.value_head(last_token)  # shape: (B, 1)\n",
        "        return {\"logits\": reward}             # ✅ shape: (B, 1), not squeezed\n",
        "\n",
        "\n",
        "\n",
        "# --------------------------------------------------\n",
        "# 2. PEFT 모델 로드 및 래핑\n",
        "# --------------------------------------------------\n",
        "sft_path = \"/content/drive/MyDrive/jeju_ppodpo/jeju_sft\"\n",
        "config = PeftConfig.from_pretrained(sft_path)\n",
        "\n",
        "base_model = AutoModelForCausalLM.from_pretrained(\n",
        "    config.base_model_name_or_path,\n",
        "    load_in_4bit=True,\n",
        "    device_map=\"auto\",\n",
        "    torch_dtype=\"auto\"\n",
        ")\n",
        "base_model = prepare_model_for_kbit_training(base_model)\n",
        "peft_model = PeftModel.from_pretrained(base_model, sft_path)\n",
        "\n",
        "# 👉 RewardModel로 감싸기\n",
        "model = SafeRewardModel(peft_model)\n",
        "\n",
        "# --------------------------------------------------\n",
        "# 3. 토크나이저 로드\n",
        "# --------------------------------------------------\n",
        "tokenizer = AutoTokenizer.from_pretrained(sft_path)\n",
        "tokenizer.pad_token = tokenizer.eos_token\n"
      ],
      "metadata": {
        "id": "7T2wpmRl7Hvj"
      },
      "execution_count": null,
      "outputs": []
    },
    {
      "cell_type": "code",
      "source": [
        "# --------------------------------------------------\n",
        "# 4. 데이터셋 불러오기 및 포맷\n",
        "# --------------------------------------------------\n",
        "df_rew = pd.read_csv(\"/content/drive/MyDrive/jeju_ppodpo/data/df_rew.csv\")\n",
        "\n",
        "def format_reward(row):\n",
        "    prompt = f\"\"\"<|begin_of_text|>\n",
        "<|start_header_id|>system<|end_header_id|>\n",
        "다음 문장을 표준어로 자연스럽게 바꿔주세요.<|eot_id|>\n",
        "<|start_header_id|>user<|end_header_id|>\n",
        "{row[\"dialect\"]}<|eot_id|>\n",
        "<|start_header_id|>assistant<|end_header_id|>\"\"\"\n",
        "    return {\n",
        "        \"prompt\": prompt,\n",
        "        \"chosen\": row[\"standard\"],\n",
        "        \"rejected\": row[\"rejected\"]\n",
        "    }\n",
        "\n",
        "reward_data = Dataset.from_pandas(df_rew)\n",
        "reward_data = reward_data.map(format_reward, remove_columns=list(df_rew.columns))\n",
        "reward_data = reward_data.train_test_split(test_size=0.1)\n"
      ],
      "metadata": {
        "id": "J2SkfWkbAUm0"
      },
      "execution_count": null,
      "outputs": []
    },
    {
      "cell_type": "code",
      "source": [
        "from transformers import EarlyStoppingCallback\n",
        "\n",
        "# --------------------------------------------------\n",
        "# 5. RewardTrainer 설정 및 실행\n",
        "# --------------------------------------------------\n",
        "reward_args = RewardConfig(\n",
        "    output_dir=\"/content/drive/MyDrive/jeju_ppodpo/jeju_reward_temp\",\n",
        "    per_device_train_batch_size=4,\n",
        "    per_device_eval_batch_size=4,\n",
        "    gradient_accumulation_steps=4,\n",
        "    num_train_epochs=2,\n",
        "    learning_rate=1e-4,\n",
        "    warmup_steps=100,\n",
        "    logging_steps=300,\n",
        "    eval_strategy=\"steps\",\n",
        "    eval_steps=300,\n",
        "    save_steps=600,\n",
        "    save_total_limit=2,\n",
        "    bf16=True,\n",
        "    fp16=False,\n",
        "    report_to=[],\n",
        "    seed=42,\n",
        "    load_best_model_at_end=True,\n",
        "    metric_for_best_model=\"eval_loss\",\n",
        "    greater_is_better=False,\n",
        ")\n",
        "\n",
        "reward_trainer = RewardTrainer(\n",
        "    model=model,\n",
        "    args=reward_args,\n",
        "    train_dataset=reward_data[\"train\"],\n",
        "    eval_dataset=reward_data[\"test\"],\n",
        "    processing_class=tokenizer,\n",
        "    callbacks=[EarlyStoppingCallback(early_stopping_patience=3)],\n",
        ")\n",
        "\n",
        "reward_trainer.train()\n"
      ],
      "metadata": {
        "id": "JtRovqEhAW-M"
      },
      "execution_count": null,
      "outputs": []
    },
    {
      "cell_type": "markdown",
      "source": [
        "![image.png](data:image/png;base64,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)"
      ],
      "metadata": {
        "id": "KSQ7rWGuBZO6"
      }
    },
    {
      "cell_type": "code",
      "source": [
        "import torch\n",
        "\n",
        "save_path = \"/content/drive/MyDrive/jeju_ppodpo/jeju_reward\"\n",
        "model_path = f\"{save_path}/pytorch_model.bin\"\n",
        "\n",
        "# 디렉토리 없으면 생성\n",
        "import os\n",
        "os.makedirs(save_path, exist_ok=True)\n",
        "\n",
        "# 모델 저장\n",
        "torch.save(reward_trainer.model.state_dict(), model_path)\n",
        "\n",
        "# tokenizer 저장 (기존대로)\n",
        "tokenizer.save_pretrained(save_path)\n",
        "\n",
        "# 전체 모델 저장\n",
        "torch.save(reward_trainer.model.state_dict(), os.path.join(reward_save_dir, \"model_state_dict.pt\"))\n",
        "\n",
        "# value_head만 따로 저장\n",
        "torch.save(reward_trainer.model.value_head.state_dict(), os.path.join(reward_save_dir, \"value_head.pt\"))"
      ],
      "metadata": {
        "id": "bPngUFjuF2fh"
      },
      "execution_count": null,
      "outputs": []
    },
    {
      "cell_type": "markdown",
      "source": [
        "ppo rl"
      ],
      "metadata": {
        "id": "p36jee_BBgmX"
      }
    },
    {
      "cell_type": "code",
      "source": [
        "import os\n",
        "import torch\n",
        "import copy\n",
        "import pandas as pd\n",
        "import matplotlib.pyplot as plt\n",
        "from torch import nn\n",
        "from datasets import Dataset\n",
        "from transformers import AutoTokenizer, AutoModelForCausalLM\n",
        "from peft import PeftModel, PeftConfig, prepare_model_for_kbit_training\n",
        "from trl import PPOTrainer, PPOConfig, AutoModelForCausalLMWithValueHead\n",
        "\n",
        "# --- 1. 경로 설정 ---\n",
        "sft_path = \"/content/drive/MyDrive/jeju_ppodpo/jeju_sft\"\n",
        "reward_save_dir = \"/content/drive/MyDrive/jeju_ppodpo/jeju_reward\"\n",
        "df_rl_path = \"/content/drive/MyDrive/jeju_ppodpo/data/df_rl.csv\"\n",
        "ppo_output_dir = \"/content/drive/MyDrive/jeju_ppodpo/jeju_ppo\"\n",
        "\n",
        "# --- 2. SFT 기반 PPO 및 Ref 모델 로딩 ---\n",
        "config = PeftConfig.from_pretrained(sft_path)\n",
        "\n",
        "def load_peft_model(path):\n",
        "    base = AutoModelForCausalLM.from_pretrained(\n",
        "        config.base_model_name_or_path,\n",
        "        load_in_4bit=True,\n",
        "        device_map=\"auto\",\n",
        "        torch_dtype=\"auto\"\n",
        "    )\n",
        "    base = prepare_model_for_kbit_training(base)\n",
        "    return PeftModel.from_pretrained(base, path)\n",
        "\n",
        "model = load_peft_model(sft_path)        # PPO 학습 모델 (trainable)\n",
        "ref_model = load_peft_model(sft_path)    # Ref 모델 (고정)\n",
        "ref_model.eval()\n",
        "\n",
        "# --- 2-1. Value Model 생성 (SFT, PEFT 없는 베이스에서!)\n",
        "from transformers import BitsAndBytesConfig\n",
        "from trl import AutoModelForCausalLMWithValueHead\n",
        "\n",
        "bnb_config = BitsAndBytesConfig(\n",
        "    load_in_4bit=True,\n",
        "    bnb_4bit_compute_dtype=torch.bfloat16,\n",
        "    bnb_4bit_use_double_quant=True,\n",
        "    bnb_4bit_quant_type=\"nf4\"\n",
        ")\n",
        "\n",
        "value_model = AutoModelForCausalLMWithValueHead.from_pretrained(\n",
        "    \"Bllossom/llama-3.2-Korean-Bllossom-3B\",\n",
        "    quantization_config=bnb_config,\n",
        "    device_map=\"auto\"\n",
        ")\n",
        "\n",
        "value_model.base_model_prefix = \"pretrained_model\"\n",
        "value_model.eval()\n",
        "\n",
        "if not hasattr(value_model, \"score\"):\n",
        "    value_model.score = value_model.v_head\n"
      ],
      "metadata": {
        "id": "_ueSsQUa65Mm"
      },
      "execution_count": null,
      "outputs": []
    },
    {
      "cell_type": "code",
      "source": [
        "# --- 3. Reward 모델 정의 및 로딩 ---\n",
        "class SafeRewardModel(nn.Module):\n",
        "    def __init__(self, shared_model):\n",
        "        super().__init__()\n",
        "        self.transformer = shared_model.model.model  # 공유!\n",
        "        self.value_head = nn.Linear(shared_model.config.hidden_size, 1)\n",
        "\n",
        "    def forward(self, input_ids, attention_mask, **kwargs):\n",
        "        with torch.no_grad():  # transformer는 고정!\n",
        "            outputs = self.transformer(input_ids=input_ids, attention_mask=attention_mask)\n",
        "        hidden = outputs.last_hidden_state\n",
        "        reward = self.value_head(hidden[:, -1, :])\n",
        "        return {\"logits\": reward}\n",
        "\n",
        "reward_model = SafeRewardModel(model)\n",
        "reward_model.value_head.load_state_dict(torch.load(os.path.join(reward_save_dir, \"value_head.pt\")))\n",
        "reward_model.eval().to(\"cuda\")\n",
        "reward_model.base_model_prefix = \"transformer\"\n",
        "reward_model.score = reward_model.value_head\n",
        "\n",
        "# --- 4. Tokenizer 로딩 ---\n",
        "tokenizer = AutoTokenizer.from_pretrained(sft_path)\n",
        "tokenizer.pad_token = tokenizer.eos_token"
      ],
      "metadata": {
        "id": "oMFL4kZdCVmE"
      },
      "execution_count": null,
      "outputs": []
    },
    {
      "cell_type": "code",
      "source": [
        "# --- 5. PPO 학습 데이터 준비 ---\n",
        "df_rl = pd.read_csv(df_rl_path)\n",
        "\n",
        "def build_jeju_ppo_dataset(\n",
        "    df,\n",
        "    tokenizer_or_path,\n",
        "    max_length=128,   # 원하는 최대 길이\n",
        "    dialect_col=\"dialect\"\n",
        "):\n",
        "    if isinstance(tokenizer_or_path, str):\n",
        "        tokenizer = AutoTokenizer.from_pretrained(tokenizer_or_path)\n",
        "    else:\n",
        "        tokenizer = tokenizer_or_path\n",
        "\n",
        "    tokenizer.pad_token = tokenizer.eos_token\n",
        "    ds = Dataset.from_pandas(df)\n",
        "\n",
        "    def build_prompt(row):\n",
        "        return {\n",
        "            \"review\": f\"\"\"<|begin_of_text|>\n",
        "<|start_header_id|>system<|end_header_id|>\n",
        "다음 제주 방언 문장을 표준어로 번역.<|eot_id|>\n",
        "<|start_header_id|>user<|end_header_id|>\n",
        "{row[dialect_col]}<|eot_id|>\n",
        "<|start_header_id|>assistant<|end_header_id|>\"\"\"\n",
        "        }\n",
        "    ds = ds.map(build_prompt)\n",
        "\n",
        "    def tokenize(sample):\n",
        "        out = tokenizer(\n",
        "            sample[\"review\"],\n",
        "            padding=\"max_length\",\n",
        "            truncation=True,\n",
        "            max_length=max_length,\n",
        "        )\n",
        "        sample[\"input_ids\"] = out[\"input_ids\"]\n",
        "        sample[\"query\"] = sample[\"review\"]\n",
        "        return sample\n",
        "\n",
        "    ds = ds.map(tokenize)\n",
        "    ds.set_format(type=\"torch\", columns=[\"input_ids\"])\n",
        "    return ds\n",
        "\n",
        "ppo_data = build_jeju_ppo_dataset(\n",
        "    df_rl,\n",
        "    tokenizer\n",
        ")\n",
        "ppo_data = ppo_data.remove_columns(\n",
        "    [col for col in ppo_data.column_names if col not in [\"input_ids\", \"query\"]]\n",
        ")"
      ],
      "metadata": {
        "id": "HXf8ZKvDkj0k"
      },
      "execution_count": null,
      "outputs": []
    },
    {
      "cell_type": "code",
      "source": [
        "# --- 7. PPOConfig 설정 ---\n",
        "ppo_config = PPOConfig(\n",
        "    output_dir=\"/content/drive/MyDrive/jeju_ppodpo/jeju_ppo_temp\",\n",
        "    learning_rate=5e-5,\n",
        "    num_train_epochs=1,\n",
        "    save_strategy=\"steps\",\n",
        "    save_steps=200,\n",
        "    save_total_limit=3,\n",
        "    logging_strategy=\"steps\",\n",
        "    logging_steps=50,\n",
        "    logging_dir=f\"{ppo_output_dir}/runs\",\n",
        "    remove_unused_columns=False,\n",
        "    batch_size=1,\n",
        "    mini_batch_size=4,\n",
        "    num_ppo_epochs=2,\n",
        "    kl_coef=0.05,\n",
        "    cliprange=0.2,\n",
        "    cliprange_value=0.2,\n",
        "    vf_coef=0.1,\n",
        "    gamma=1.0,\n",
        "    lam=0.95,\n",
        "    seed=42,\n",
        "    report_to=[\"tensorboard\"],\n",
        "    gradient_accumulation_steps=4,\n",
        ")\n",
        "\n",
        "# --- 8. PPOTrainer 초기화 및 학습 ---\n",
        "ppo_trainer = PPOTrainer(\n",
        "    args=ppo_config,\n",
        "    model=model,             # PEFT(LoRA) 학습 모델\n",
        "    ref_model=ref_model,     # PEFT(LoRA) Ref 모델 (고정)\n",
        "    value_model=value_model, # SFT Base + ValueHead 모델 (PEFT/LORA 적용 X)\n",
        "    reward_model=reward_model,\n",
        "    processing_class=tokenizer,\n",
        "    train_dataset=ppo_data,\n",
        "    eval_dataset=ppo_data,\n",
        ")\n",
        "\n",
        "ppo_trainer.train()"
      ],
      "metadata": {
        "id": "Ggi6IkTr67Tn"
      },
      "execution_count": null,
      "outputs": []
    },
    {
      "cell_type": "markdown",
      "source": [
        "{'eps': 1, 'objective/kl': 356.70782470703125, 'objective/entropy': 307.32171630859375, 'objective/non_score_reward': -17.835391998291016, 'objective/rlhf_reward': -16.6945743560791, 'objective/scores': 1.1408183574676514, 'policy/approxkl_avg': 37.44074249267578, 'policy/clipfrac_avg': 0.0, 'loss/policy_avg': nan, 'loss/value_avg': nan, 'val/clipfrac_avg': 0.0, 'policy/entropy_avg': 3.0507864952087402, 'val/ratio': 1.6481598615646362, 'val/ratio_var': 4.931743144989014, 'val/num_eos_tokens': 2, 'lr': 8.528784648187634e-07, 'episode': 14784, 'epoch': 0.9856}\n",
        "\n",
        "{'eps': 1, 'objective/kl': 372.5989074707031, 'objective/entropy': 313.82318115234375, 'objective/non_score_reward': -18.629945755004883, 'objective/rlhf_reward': -18.149696350097656, 'objective/scores': 0.4802500903606415, 'policy/approxkl_avg': 39.293785095214844, 'policy/clipfrac_avg': 0.0, 'loss/policy_avg': nan, 'loss/value_avg': nan, 'val/clipfrac_avg': 0.0, 'policy/entropy_avg': 3.206024169921875, 'val/ratio': 0.7304035425186157, 'val/ratio_var': 0.40706124901771545, 'val/num_eos_tokens': 1, 'lr': 7.462686567164179e-07, 'episode': 14816, 'epoch': 0.9877333333333334}\n",
        "\n",
        "{'eps': 1, 'objective/kl': 307.4808349609375, 'objective/entropy': 315.16046142578125, 'objective/non_score_reward': -15.374041557312012, 'objective/rlhf_reward': -14.667394638061523, 'objective/scores': 0.7066468596458435, 'policy/approxkl_avg': 29.88489532470703, 'policy/clipfrac_avg': 0.0, 'loss/policy_avg': nan, 'loss/value_avg': nan, 'val/clipfrac_avg': 0.0, 'policy/entropy_avg': 3.297147750854492, 'val/ratio': 0.5408617258071899, 'val/ratio_var': 0.0622476264834404, 'val/num_eos_tokens': 3, 'lr': 6.396588486140725e-07, 'episode': 14848, 'epoch': 0.9898666666666667}\n",
        "\n",
        "{'eps': 1, 'objective/kl': 363.8024597167969, 'objective/entropy': 313.1430969238281, 'objective/non_score_reward': -18.19012451171875, 'objective/rlhf_reward': -17.49216079711914, 'objective/scores': 0.6979646682739258, 'policy/approxkl_avg': 37.99964904785156, 'policy/clipfrac_avg': 0.0, 'loss/policy_avg': nan, 'loss/value_avg': nan, 'val/clipfrac_avg': 0.0, 'policy/entropy_avg': 3.379453659057617, 'val/ratio': 0.3028341233730316, 'val/ratio_var': 0.015386657789349556, 'val/num_eos_tokens': 2, 'lr': 5.33049040511727e-07, 'episode': 14880, 'epoch': 0.992}\n",
        "\n",
        "{'eps': 1, 'objective/kl': 351.58880615234375, 'objective/entropy': 339.4829406738281, 'objective/non_score_reward': -17.57944107055664, 'objective/rlhf_reward': -17.038022994995117, 'objective/scores': 0.5414177775382996, 'policy/approxkl_avg': 35.22154998779297, 'policy/clipfrac_avg': 0.0, 'loss/policy_avg': nan, 'loss/value_avg': nan, 'val/clipfrac_avg': 0.0, 'policy/entropy_avg': 3.3297619819641113, 'val/ratio': 1.470919132232666, 'val/ratio_var': 4.063600540161133, 'val/num_eos_tokens': 1, 'lr': 4.264392324093817e-07, 'episode': 14912, 'epoch': 0.9941333333333333}\n",
        "\n",
        "{'eps': 1, 'objective/kl': 395.559326171875, 'objective/entropy': 342.13848876953125, 'objective/non_score_reward': -19.777965545654297, 'objective/rlhf_reward': -18.557655334472656, 'objective/scores': 1.2203102111816406, 'policy/approxkl_avg': 41.397674560546875, 'policy/clipfrac_avg': 0.0, 'loss/policy_avg': nan, 'loss/value_avg': nan, 'val/clipfrac_avg': 0.0, 'policy/entropy_avg': 3.063833236694336, 'val/ratio': 0.7357532978057861, 'val/ratio_var': 0.1595316380262375, 'val/num_eos_tokens': 0, 'lr': 3.1982942430703626e-07, 'episode': 14944, 'epoch': 0.9962666666666666}\n",
        "\n",
        "{'eps': 1, 'objective/kl': 366.274169921875, 'objective/entropy': 301.0155029296875, 'objective/non_score_reward': -18.313709259033203, 'objective/rlhf_reward': -17.928768157958984, 'objective/scores': 0.38494110107421875, 'policy/approxkl_avg': 38.75564956665039, 'policy/clipfrac_avg': 0.0, 'loss/policy_avg': nan, 'loss/value_avg': nan, 'val/clipfrac_avg': 0.0, 'policy/entropy_avg': 2.931187152862549, 'val/ratio': 5.010801315307617, 'val/ratio_var': 68.01727294921875, 'val/num_eos_tokens': 2, 'lr': 2.1321961620469084e-07, 'episode': 14976, 'epoch': 0.9984}\n",
        "\n",
        "{'eps': 1, 'objective/kl': 371.8514404296875, 'objective/entropy': 324.53179931640625, 'objective/non_score_reward': -18.592571258544922, 'objective/rlhf_reward': -18.06216812133789, 'objective/scores': 0.5304023027420044, 'policy/approxkl_avg': 38.60491180419922, 'policy/clipfrac_avg': 0.0, 'loss/policy_avg': nan, 'loss/value_avg': nan, 'val/clipfrac_avg': 0.0, 'policy/entropy_avg': 3.1922149658203125, 'val/ratio': 0.4704049825668335, 'val/ratio_var': 0.0759960412979126, 'val/num_eos_tokens': 1, 'lr': 1.0660980810234542e-07, 'episode': 15008, 'epoch': 1.0005333333333333}"
      ],
      "metadata": {
        "id": "oKnA4GJG-25Q"
      }
    },
    {
      "cell_type": "code",
      "source": [
        "model_save_path = os.path.join(ppo_output_dir, \"ppo_policy\")\n",
        "ppo_trainer.model.policy.save_pretrained(model_save_path)\n",
        "\n",
        "tokenizer.save_pretrained(model_save_path)\n",
        "\n",
        "value_save_path = os.path.join(ppo_output_dir, \"ppo_value\")\n",
        "torch.save(value_model.state_dict(), os.path.join(value_save_path, \"pytorch_model.bin\"))"
      ],
      "metadata": {
        "id": "6K6fYvw7-qhw"
      },
      "execution_count": null,
      "outputs": []
    }
  ]
}